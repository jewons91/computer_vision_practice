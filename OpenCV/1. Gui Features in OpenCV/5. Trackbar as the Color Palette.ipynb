{
 "cells": [
  {
   "cell_type": "markdown",
   "metadata": {},
   "source": [
    "### Code Demo"
   ]
  },
  {
   "cell_type": "code",
   "execution_count": 4,
   "metadata": {},
   "outputs": [],
   "source": [
    "import numpy as np\n",
    "import cv2 as cv\n",
    "\n",
    "def nothing(x):\n",
    "    pass\n",
    "\n",
    "# Create a black image, a window\n",
    "img = np.zeros((300, 512, 3), np.uint8)\n",
    "cv.namedWindow('image')\n",
    "\n",
    "# create trackbars for color change\n",
    "cv.createTrackbar('R', 'image', 0, 255, nothing)\n",
    "cv.createTrackbar('G', 'image', 0, 255, nothing)\n",
    "cv.createTrackbar('B', 'image', 0, 255, nothing)\n",
    "\n",
    "# create switch for ON/OFF functionality\n",
    "switch = '0 : OFF \\n1 : ON'\n",
    "cv.createTrackbar(switch, 'image', 0, 1, nothing)\n",
    "\n",
    "while(1):\n",
    "    cv.imshow('image', img)\n",
    "    k = cv.waitKey(1) & 0xFF\n",
    "    if k == 27:\n",
    "        break\n",
    "    \n",
    "    # get current positions of four trackbars\n",
    "    r = cv.getTrackbarPos('R', 'image')\n",
    "    g = cv.getTrackbarPos('G', 'image')\n",
    "    b = cv.getTrackbarPos('B', 'image')\n",
    "    s = cv.getTrackbarPos(switch, 'image')\n",
    "    \n",
    "    if s == 0:\n",
    "        img[:] = 0\n",
    "    else:\n",
    "        img[:] = [b, g, r]\n",
    "\n",
    "cv.destroyAllWindows()"
   ]
  },
  {
   "cell_type": "markdown",
   "metadata": {},
   "source": [
    "### Exercises"
   ]
  },
  {
   "cell_type": "code",
   "execution_count": 12,
   "metadata": {},
   "outputs": [
    {
     "ename": "error",
     "evalue": "OpenCV(4.10.0) D:\\a\\opencv-python\\opencv-python\\opencv\\modules\\highgui\\src\\window.cpp:868: error: (-215:Assertion failed) trackbar in function 'cv::getTrackbarPos'\n",
     "output_type": "error",
     "traceback": [
      "\u001b[1;31m---------------------------------------------------------------------------\u001b[0m",
      "\u001b[1;31merror\u001b[0m                                     Traceback (most recent call last)",
      "Cell \u001b[1;32mIn[12], line 39\u001b[0m, in \u001b[0;36mupdate_Trackbar\u001b[1;34m(x)\u001b[0m\n\u001b[0;32m     37\u001b[0m radius \u001b[38;5;241m=\u001b[39m cv\u001b[38;5;241m.\u001b[39mgetTrackbarPos(\u001b[38;5;124m'\u001b[39m\u001b[38;5;124mRadius\u001b[39m\u001b[38;5;124m'\u001b[39m, windowName)\n\u001b[0;32m     38\u001b[0m radius \u001b[38;5;241m=\u001b[39m \u001b[38;5;28mmax\u001b[39m(\u001b[38;5;241m1\u001b[39m, radius)\n\u001b[1;32m---> 39\u001b[0m switch_val \u001b[38;5;241m=\u001b[39m \u001b[43mcv\u001b[49m\u001b[38;5;241;43m.\u001b[39;49m\u001b[43mgetTrackbarPos\u001b[49m\u001b[43m(\u001b[49m\u001b[38;5;124;43m'\u001b[39;49m\u001b[38;5;124;43mSwitch\u001b[39;49m\u001b[38;5;124;43m'\u001b[39;49m\u001b[43m,\u001b[49m\u001b[43m \u001b[49m\u001b[43mwindowName\u001b[49m\u001b[43m)\u001b[49m\n\u001b[0;32m     41\u001b[0m \u001b[38;5;28;01mif\u001b[39;00m switch_val \u001b[38;5;241m==\u001b[39m \u001b[38;5;241m0\u001b[39m:\n\u001b[0;32m     42\u001b[0m     img[:] \u001b[38;5;241m=\u001b[39m \u001b[38;5;241m255\u001b[39m\n",
      "\u001b[1;31merror\u001b[0m: OpenCV(4.10.0) D:\\a\\opencv-python\\opencv-python\\opencv\\modules\\highgui\\src\\window.cpp:868: error: (-215:Assertion failed) trackbar in function 'cv::getTrackbarPos'\n"
     ]
    }
   ],
   "source": [
    "# Create a Paint application with adjustable colors and brush radius using trackbars. \n",
    "# For drawing, refer previous tutorial on mouse handling.\n",
    "\n",
    "import numpy as np\n",
    "import cv2 as cv\n",
    "\n",
    "# 초기화\n",
    "drawing = False\n",
    "ix, iy = -1, -1\n",
    "windowName = 'Paint_Application'\n",
    "r, g, b = 0, 0, 0\n",
    "radius = 1\n",
    "switch_val = 0\n",
    "\n",
    "def draw_circle(event, x, y, flags, param):\n",
    "    global ix, iy, drawing, radius, r, g, b, switch_val\n",
    "    \n",
    "    if switch_val == 1:\n",
    "        if event == cv.EVENT_LBUTTONDOWN:\n",
    "            drawing = True\n",
    "            ix, iy = x, y\n",
    "            \n",
    "        elif event == cv.EVENT_MOUSEMOVE:\n",
    "            if drawing == True:\n",
    "                cv.circle(img, (x, y), radius, (b, g, r), -1)\n",
    "                \n",
    "        elif event == cv.EVENT_LBUTTONUP:\n",
    "            drawing = False\n",
    "            cv.circle(img, (x, y), radius, (b, g, r), -1)\n",
    "\n",
    "def update_Trackbar(x):\n",
    "    global r, g, b, radius, switch_val, img\n",
    "    \n",
    "    r = cv.getTrackbarPos('R', windowName)\n",
    "    g = cv.getTrackbarPos('G', windowName)\n",
    "    b = cv.getTrackbarPos('B', windowName)\n",
    "    radius = cv.getTrackbarPos('Radius', windowName)\n",
    "    radius = max(1, radius)\n",
    "    switch_val = cv.getTrackbarPos('Switch', windowName)\n",
    "    \n",
    "    if switch_val == 0:\n",
    "        img[:] = 255\n",
    "\n",
    "img = np.ones((512, 512, 3), np.uint8) * 255\n",
    "cv.namedWindow(windowName)\n",
    "\n",
    "cv.createTrackbar('R', windowName, 0, 255, update_Trackbar)\n",
    "cv.createTrackbar('G', windowName, 0, 255, update_Trackbar)\n",
    "cv.createTrackbar('B', windowName, 0, 255, update_Trackbar)\n",
    "cv.createTrackbar('Radius', windowName, 1, 10, update_Trackbar)\n",
    "cv.createTrackbar('Switch', windowName, 0, 1, update_Trackbar)\n",
    "\n",
    "update_Trackbar(0)\n",
    "\n",
    "cv.setMouseCallback(windowName, draw_circle)\n",
    "\n",
    "while True:\n",
    "    cv.imshow(windowName, img)\n",
    "    k = cv.waitKey(1) & 0xFF\n",
    "    \n",
    "    if k == 27:\n",
    "        break\n",
    "\n",
    "cv.destroyAllWindows()\n"
   ]
  }
 ],
 "metadata": {
  "kernelspec": {
   "display_name": "cv",
   "language": "python",
   "name": "python3"
  },
  "language_info": {
   "codemirror_mode": {
    "name": "ipython",
    "version": 3
   },
   "file_extension": ".py",
   "mimetype": "text/x-python",
   "name": "python",
   "nbconvert_exporter": "python",
   "pygments_lexer": "ipython3",
   "version": "3.13.0"
  }
 },
 "nbformat": 4,
 "nbformat_minor": 2
}
