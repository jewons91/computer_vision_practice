{
 "cells": [
  {
   "cell_type": "markdown",
   "metadata": {},
   "source": [
    "### Image Addition"
   ]
  },
  {
   "cell_type": "code",
   "execution_count": 2,
   "metadata": {},
   "outputs": [
    {
     "name": "stdout",
     "output_type": "stream",
     "text": [
      "[[260.]\n",
      " [  0.]\n",
      " [  0.]\n",
      " [  0.]]\n",
      "[4]\n"
     ]
    }
   ],
   "source": [
    "import numpy as np\n",
    "import cv2 as cv\n",
    "\n",
    "x = np.uint8([250])\n",
    "y = np.uint8([10])\n",
    "\n",
    "print(cv.add(x, y)) # 250+10 = 260 => 255\n",
    "\n",
    "print(x + y) # 250+10 = 260 => 4"
   ]
  },
  {
   "cell_type": "markdown",
   "metadata": {},
   "source": [
    "### 위에 뭔가 문제인지 나중에 다시 확인 생각하는거랑 다름"
   ]
  },
  {
   "cell_type": "markdown",
   "metadata": {},
   "source": [
    "### Image Blending"
   ]
  },
  {
   "cell_type": "code",
   "execution_count": 3,
   "metadata": {},
   "outputs": [],
   "source": [
    "img1 = cv.imread('image1.webp')\n",
    "img2 = cv.imread('image2.webp')\n",
    "assert img1 is not None, \"img1 file could not be read, check with os.path.exists()\"\n",
    "assert img2 is not None, \"img2 file could not be read, check with os.path.exists()\"\n",
    "\n",
    "dst = cv.addWeighted(img1, 0.7, img2, 0.3, 0)\n",
    "\n",
    "cv.imshow('dst', dst)\n",
    "cv.waitKey(0)\n",
    "cv.destroyAllWindows()"
   ]
  },
  {
   "cell_type": "markdown",
   "metadata": {},
   "source": [
    "### Bitwise Operations"
   ]
  },
  {
   "cell_type": "code",
   "execution_count": 4,
   "metadata": {},
   "outputs": [],
   "source": [
    "# Load two images\n",
    "img1 = cv.imread('image1.webp')\n",
    "img2 = cv.imread('opencv-logo.png')\n",
    "assert img1 is not None, \"img1 could not be read, check with os.path.exists()\"\n",
    "assert img2 is not None, \"img2 could not be read, check with os.path.exists()\"\n",
    "\n",
    "# I want to put logo on top-left corner, So I create a ROI\n",
    "rows, cols, channels = img2.shape\n",
    "roi = img1[0:rows, 0:cols]\n",
    "\n",
    "# Now create a mask of logo and create its inverse mask also\n",
    "img2gray = cv.cvtColor(img2, cv.COLOR_BGR2GRAY)\n",
    "ret, mask = cv.threshold(img2gray, 10, 255, cv.THRESH_BINARY)\n",
    "mask_inv = cv.bitwise_not(mask)\n",
    "\n",
    "# Now black-out the area of logo in ROI\n",
    "img1_bg = cv.bitwise_and(roi, roi, mask=mask_inv)\n",
    "\n",
    "# Take only region of logo from logo image.\n",
    "img2_fg = cv.bitwise_and(img2, img2, mask=mask)\n",
    "\n",
    "# Put logo in ROI and modify the main image\n",
    "dst = cv.add(img1_bg, img2_fg)\n",
    "img1[0:rows, 0:cols] = dst\n",
    "\n",
    "cv.imshow('res', img1)\n",
    "cv.waitKey(0)\n",
    "cv.destroyAllWindows()"
   ]
  },
  {
   "cell_type": "markdown",
   "metadata": {},
   "source": [
    "### Exercises"
   ]
  },
  {
   "cell_type": "code",
   "execution_count": 8,
   "metadata": {},
   "outputs": [],
   "source": [
    "import cv2 as cv\n",
    "import numpy as np\n",
    "\n",
    "img1 = cv.imread('image1.webp')\n",
    "img2 = cv.imread('image2.webp')\n",
    "\n",
    "for i in range(100):\n",
    "    dst = cv.addWeighted(img1, i * 0.01, img2, 1 - i * 0.01, 0)\n",
    "    \n",
    "    cv.imshow('dst', dst)\n",
    "    cv.waitKey(50)\n",
    "    \n",
    "cv.destroyAllWindows()"
   ]
  },
  {
   "cell_type": "markdown",
   "metadata": {},
   "source": [
    "#### Exercise 코드 개선"
   ]
  },
  {
   "cell_type": "code",
   "execution_count": 9,
   "metadata": {},
   "outputs": [],
   "source": [
    "import cv2 as cv\n",
    "import numpy as np\n",
    "\n",
    "# 이미지 로드\n",
    "img1 = cv.imread('image1.webp')\n",
    "img2 = cv.imread('image2.webp')\n",
    "\n",
    "# 이미지가 제대로 로드 되었는지 확인\n",
    "if img1 is None:\n",
    "    print(\"Error: 'image1.webp'를 로드할 수 없습니다. 파일 경로를 확인하세요.\")\n",
    "    exit()\n",
    "if img2 is None:\n",
    "    print(\"Error: 'image2.webp'를 로드할 수 없습니다. 파일 경로를 확인하세요.\")\n",
    "    exit()\n",
    "\n",
    "# 두 이미지의 크기 및 채널 수가 동일한지 확인\n",
    "if img1.shape != img2.shape:\n",
    "    print(\"Warning: 두 이미지의 크기나 채널 수가 다릅니다. 이미지를 동일한 사이즈로 리사이즈합니다.\")\n",
    "    # 이미지 크기를 img1에 맞추어 img2를 리사이즈\n",
    "    img2 = cv.resize(img2, (img1.shape[1], img1.shape[0]))\n",
    "    \n",
    "# 슬라이드 쇼 창 생성\n",
    "cv.namedWindow('Slideshow', cv.WINDOW_AUTOSIZE)\n",
    "\n",
    "# 슬라이드 쇼 전환 단계 설정\n",
    "transition_steps = 100 # 전환을 위한 단계 수\n",
    "transition_delay = 30 # 각 단계의 지연 시간 (밀리초)\n",
    "\n",
    "for i in range(transition_steps + 1):\n",
    "    alpha = i / transition_steps    # img1의 가중치\n",
    "    beta = 1 - alpha                # img2의 가중치\n",
    "    gamma = 0                       # 추가적인 상수\n",
    "    \n",
    "    # 두 이미지를 가중치를 부여햐여 합성\n",
    "    dst = cv.addWeighted(img1, alpha, img2, beta, gamma)\n",
    "    \n",
    "    # 합성된 이미지 표시\n",
    "    cv.imshow('Slideshow', dst)\n",
    "    \n",
    "    # 키 입력 대기 및 창 업데이트\n",
    "    key = cv.waitKey(transition_delay) & 0xFF\n",
    "    if key == 27: # ESC 키를 누르면 슬라이드 쇼 종료\n",
    "        break\n",
    "    \n",
    "# 창 닫기\n",
    "cv.destroyAllWindows()"
   ]
  }
 ],
 "metadata": {
  "kernelspec": {
   "display_name": "cv_practice",
   "language": "python",
   "name": "python3"
  },
  "language_info": {
   "codemirror_mode": {
    "name": "ipython",
    "version": 3
   },
   "file_extension": ".py",
   "mimetype": "text/x-python",
   "name": "python",
   "nbconvert_exporter": "python",
   "pygments_lexer": "ipython3",
   "version": "3.13.0"
  }
 },
 "nbformat": 4,
 "nbformat_minor": 2
}
